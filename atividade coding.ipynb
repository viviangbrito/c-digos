{
 "cells": [
  {
   "cell_type": "code",
   "execution_count": null,
   "metadata": {},
   "outputs": [],
   "source": [
    "# 1) Faça um Programa que peça 2 números inteiros e um número real. Calcule e mostre:"
   ]
  },
  {
   "cell_type": "code",
   "execution_count": null,
   "metadata": {},
   "outputs": [],
   "source": [
    "numero1 = int ( input(\"Digite um número inteiro\"))\n",
    "numero2 = int ( input(\"Digite um número inteiro\"))\n",
    "numero3= float (input(\"Digite um numero real\"))\n"
   ]
  },
  {
   "cell_type": "code",
   "execution_count": null,
   "metadata": {},
   "outputs": [],
   "source": [
    "#a)O produto do dobro do primeiro com metade do segundo."
   ]
  },
  {
   "cell_type": "code",
   "execution_count": 5,
   "metadata": {},
   "outputs": [
    {
     "name": "stdout",
     "output_type": "stream",
     "text": [
      "34.5\n"
     ]
    }
   ],
   "source": [
    "numero1 = int ( input(\"Digite um número inteiro\"))\n",
    "numero2 = int ( input(\"Digite um número inteiro\"))\n",
    "\n",
    "produto = numero1 %2 + numero2/2\n",
    "print (produto)"
   ]
  },
  {
   "cell_type": "code",
   "execution_count": null,
   "metadata": {},
   "outputs": [],
   "source": [
    "#b)A soma do triplo do primeiro com o terceiro. o terceiro elevado ao cubo."
   ]
  },
  {
   "cell_type": "code",
   "execution_count": 22,
   "metadata": {},
   "outputs": [
    {
     "name": "stdout",
     "output_type": "stream",
     "text": [
      "2.25\n"
     ]
    }
   ],
   "source": [
    "numero1 = int ( input(\"Digite um número inteiro\"))\n",
    "numero3 = float (input(\"Digite um numero real\"))\n",
    "soma= (numero1 + (numero3)**2) % 3\n",
    "print(soma)"
   ]
  },
  {
   "cell_type": "code",
   "execution_count": null,
   "metadata": {},
   "outputs": [],
   "source": [
    "#2) Faça um Programa que peça dois números e imprima o maior deles."
   ]
  },
  {
   "cell_type": "code",
   "execution_count": 26,
   "metadata": {},
   "outputs": [
    {
     "name": "stdout",
     "output_type": "stream",
     "text": [
      "o maior número é 10.0\n"
     ]
    }
   ],
   "source": [
    "numero1 = float ( input(\"Digite um número\"))\n",
    "numero2 = float ( input(\"Digite um número\"))\n",
    "if (numero1 > numero2):\n",
    "    print(\"o maior número é\", numero1)\n",
    "else: \n",
    "    print(\"o maior número é\",numero2)"
   ]
  },
  {
   "cell_type": "code",
   "execution_count": null,
   "metadata": {},
   "outputs": [],
   "source": [
    "#3) Faça um Programa que peça um valor e mostre na tela se o valor é positivo ou negativo."
   ]
  },
  {
   "cell_type": "code",
   "execution_count": 43,
   "metadata": {},
   "outputs": [
    {
     "name": "stdout",
     "output_type": "stream",
     "text": [
      "o número é negativo\n"
     ]
    }
   ],
   "source": [
    "valor1 = float ( input(\"Digite um valor\"))\n",
    "if (valor1 >0):\n",
    "    print(\"o número é positivo\")\n",
    "else: \n",
    "    print(\"o número é negativo\")\n"
   ]
  },
  {
   "cell_type": "code",
   "execution_count": null,
   "metadata": {},
   "outputs": [],
   "source": [
    "#4) Faça um programa para a leitura de duas notas parciais de um aluno. O programa deve calcular a média alcançada por aluno e apresentar o resultado \"Aprovado\" ou \"Reprovado\". Considere que a escola adota média 7.00."
   ]
  },
  {
   "cell_type": "code",
   "execution_count": 37,
   "metadata": {},
   "outputs": [
    {
     "name": "stdout",
     "output_type": "stream",
     "text": [
      "aprovado\n"
     ]
    }
   ],
   "source": [
    "nota1 = float (input(\"Digite a nota 1\"))\n",
    "nota2 = float (input(\"Digite a nota 2\"))\n",
    "media= float ((nota1 + nota2)/2)\n",
    "\n",
    "\n",
    "if media >=7:\n",
    "    print (\"aprovado.\")\n",
    "else:\n",
    "    print (\"reprovado.\")\n"
   ]
  },
  {
   "cell_type": "code",
   "execution_count": null,
   "metadata": {},
   "outputs": [],
   "source": [
    "#5)Faça um Programa que leia três números e mostre o maior deles."
   ]
  },
  {
   "cell_type": "code",
   "execution_count": 61,
   "metadata": {},
   "outputs": [
    {
     "name": "stdout",
     "output_type": "stream",
     "text": [
      "o número tres é o maior\n"
     ]
    }
   ],
   "source": [
    "numero1 = float (input(\"Digite a número 1\"))\n",
    "numero2 = float (input(\"Digite a número 2\"))\n",
    "numero3 = float (input(\"Digite a número 3\"))\n",
    "\n",
    "\n",
    "if numero1 > numero2 and numero1 > numero3:\n",
    "    print(\"o número um é o maior\")\n",
    "\n",
    "elif (numero3 > numero2 and numero3 > numero1):\n",
    "    print (\"o número tres é o maior\")\n",
    "\n",
    "else:\n",
    "    numero2 > numero3 and numero2 > numero1\n",
    "    print (\"o número dois é o maior\")\n",
    "\n",
    "\n",
    "\n",
    "\n",
    "\n",
    "\n"
   ]
  }
 ],
 "metadata": {
  "kernelspec": {
   "display_name": "Python 3",
   "language": "python",
   "name": "python3"
  },
  "language_info": {
   "codemirror_mode": {
    "name": "ipython",
    "version": 3
   },
   "file_extension": ".py",
   "mimetype": "text/x-python",
   "name": "python",
   "nbconvert_exporter": "python",
   "pygments_lexer": "ipython3",
   "version": "3.11.9"
  }
 },
 "nbformat": 4,
 "nbformat_minor": 2
}
