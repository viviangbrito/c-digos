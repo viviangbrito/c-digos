{
 "cells": [
  {
   "cell_type": "code",
   "execution_count": null,
   "metadata": {},
   "outputs": [],
   "source": []
  },
  {
   "cell_type": "markdown",
   "metadata": {},
   "source": [
    " # Faça um programa que peça um número e então mostre a mensagem \" o número informado foi\" seguido do número."
   ]
  },
  {
   "cell_type": "code",
   "execution_count": 2,
   "metadata": {},
   "outputs": [
    {
     "name": "stdout",
     "output_type": "stream",
     "text": [
      "O número escolhido foi: 1\n"
     ]
    }
   ],
   "source": [
    "numero = int (input( \"Digite um número\"))\n",
    "print( \"O número escolhido foi:\", numero)"
   ]
  },
  {
   "cell_type": "markdown",
   "metadata": {},
   "source": [
    "# Peça dois números, e mostre na tela a soma "
   ]
  },
  {
   "cell_type": "code",
   "execution_count": 4,
   "metadata": {},
   "outputs": [
    {
     "name": "stdout",
     "output_type": "stream",
     "text": [
      "A soma dos dois números é 5\n"
     ]
    }
   ],
   "source": [
    "numero1 = int (input(\"Digite o primeiro número\"))\n",
    "numero2 = int (input (\"Digite o segundo número\"))\n",
    "soma = numero1 + numero2\n",
    "print (\"A soma dos dois números é\", soma)"
   ]
  },
  {
   "cell_type": "code",
   "execution_count": null,
   "metadata": {},
   "outputs": [],
   "source": [
    "# Faça um programa que peça 3 notas e mostre a média."
   ]
  },
  {
   "cell_type": "code",
   "execution_count": 10,
   "metadata": {},
   "outputs": [
    {
     "name": "stdout",
     "output_type": "stream",
     "text": [
      "4.0\n"
     ]
    }
   ],
   "source": [
    "nota1 = float (input(\"Digite a nota 1\"))\n",
    "nota2 = float (input(\"Digite a nota 2\"))\n",
    "nota3 = float (input (\"Digite nota 3\"))\n",
    "média = print ((nota1 + nota2 + nota3)/3)\n"
   ]
  },
  {
   "cell_type": "code",
   "execution_count": null,
   "metadata": {},
   "outputs": [],
   "source": [
    "#Faça um programa que pergunte quanto vc ganha por hora e o número de horas trabalhadas por mês. Calcule e mostre o total do seu salário no referido mês"
   ]
  },
  {
   "cell_type": "code",
   "execution_count": 16,
   "metadata": {},
   "outputs": [
    {
     "name": "stdout",
     "output_type": "stream",
     "text": [
      "22500.0\n"
     ]
    }
   ],
   "source": [
    "hora = float( input(\"Quanto vc ganha por hora?\"))\n",
    "mes = float (input (\"Quanto vc recebe por mês?\"))\n",
    "\n",
    "print(mes* hora)"
   ]
  },
  {
   "cell_type": "code",
   "execution_count": null,
   "metadata": {},
   "outputs": [],
   "source": [
    "#Desafio. \n",
    "# Peso regulamento = 50 kg\n",
    "# 4 reais por quilo a mais\n",
    "#ler a variavel peso e calcular o excesso\n",
    "#Na variável de excesso a quantidade de quilos além do limite e na variável multa o valor da multa que joão deverá pagar. \n",
    "#Imprima os dados do programa (print) com as mensagens para alertar João."
   ]
  },
  {
   "cell_type": "code",
   "execution_count": 15,
   "metadata": {},
   "outputs": [
    {
     "name": "stdout",
     "output_type": "stream",
     "text": [
      "Não pagará multa\n"
     ]
    }
   ],
   "source": [
    "peso = float ( input (\"Qual o peso?\"))\n",
    "limite = 50 \n",
    " \n",
    "if ( peso >50):\n",
    "    pesoAmais = peso - limite \n",
    "    multa = 4 * pesoAmais\n",
    "    print(\"Vc pagará:\", multa)\n",
    "else:\n",
    "     print(\"Não pagará multa\")"
   ]
  }
 ],
 "metadata": {
  "kernelspec": {
   "display_name": "Python 3",
   "language": "python",
   "name": "python3"
  },
  "language_info": {
   "codemirror_mode": {
    "name": "ipython",
    "version": 3
   },
   "file_extension": ".py",
   "mimetype": "text/x-python",
   "name": "python",
   "nbconvert_exporter": "python",
   "pygments_lexer": "ipython3",
   "version": "3.11.4"
  }
 },
 "nbformat": 4,
 "nbformat_minor": 2
}
