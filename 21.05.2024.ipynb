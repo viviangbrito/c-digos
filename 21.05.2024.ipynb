{
 "cells": [
  {
   "cell_type": "code",
   "execution_count": 26,
   "metadata": {},
   "outputs": [
    {
     "name": "stdout",
     "output_type": "stream",
     "text": [
      "1 patinho foi passear, além das montanhas para brincar, a mamãe gritou: quá, quá, quá, quá, mas só 1 patinho voltou de lá.\n",
      "2 patinhos foram passear, além das montanhas para brincar, a mamãe gritou: quá, quá, quá, quá, mas só 1 patinhos voltaram de lá.\n",
      "3 patinhos foram passear, além das montanhas para brincar, a mamãe gritou: quá, quá, quá, quá, mas só 2 patinhos voltaram de lá.\n",
      "4 patinhos foram passear, além das montanhas para brincar, a mamãe gritou: quá, quá, quá, quá, mas só 3 patinhos voltaram de lá.\n",
      "5 patinhos foram passear, além das montanhas para brincar, a mamãe gritou: quá, quá, quá, quá, mas só 4 patinhos voltaram de lá.\n",
      "\n",
      "\n",
      "5 patinhos foram passear, além das montanhas para brincar, a mamãe gritou: quá, quá, quá, quá, mas só 4 patinhos voltaram de lá.\n",
      "4 patinhos foram passear, além das montanhas para brincar, a mamãe gritou: quá, quá, quá, quá, mas só 3 patinhos voltaram de lá.\n",
      "3 patinhos foram passear, além das montanhas para brincar, a mamãe gritou: quá, quá, quá, quá, mas só 2 patinhos voltaram de lá.\n",
      "2 patinhos foram passear, além das montanhas para brincar, a mamãe gritou: quá, quá, quá, quá, mas só 1 patinhos voltaram de lá.\n",
      "1 patinho foi passear, além das montanhas para brincar, a mamãe gritou: quá, quá, quá, quá, mas só 2 patinho voltou de lá.\n"
     ]
    }
   ],
   "source": [
    "\n",
    "for patinho in [1]:\n",
    "    print(patinho,'patinho foi passear, além das montanhas para brincar, a mamãe gritou: quá, quá, quá, quá, mas só',patinhos,'patinho voltou de lá.')\n",
    "\n",
    "for patinhos in [2, 3, 4, 5]:\n",
    "    print( patinhos,'patinhos foram passear, além das montanhas para brincar, a mamãe gritou: quá, quá, quá, quá, mas só',patinhos-1,'patinhos voltaram de lá.')\n",
    "    # o for serve para não precisar fazer tanto prints e if e else\n",
    "\n",
    "print(\"\\n\") #usar para dar um espaço entre os resultados\n",
    "\n",
    "for patinhos in [5, 4, 3, 2]:\n",
    "    print(patinhos,'patinhos foram passear, além das montanhas para brincar, a mamãe gritou: quá, quá, quá, quá, mas só',patinhos-1,'patinhos voltaram de lá.')\n",
    "    #não precisa if e else. perde tempo,\n",
    "\n",
    "for patinho in [1]:\n",
    "    print(patinho,'patinho foi passear, além das montanhas para brincar, a mamãe gritou: quá, quá, quá, quá, mas só',patinhos,'patinho voltou de lá.')\n",
    "\n"
   ]
  },
  {
   "cell_type": "code",
   "execution_count": 67,
   "metadata": {},
   "outputs": [
    {
     "name": "stdout",
     "output_type": "stream",
     "text": [
      "Mariana conta 1\n",
      "Mariana conta 2 .É 1, é 2, é Ana viva a Mariana\n",
      "Mariana conta 3\n",
      "Mariana conta 4\n",
      "Mariana conta 5\n",
      "Mariana conta 6\n",
      "Mariana conta 7\n",
      "Mariana conta 8\n",
      "Mariana conta 9\n",
      "Mariana conta 10\n",
      "\n",
      "\n"
     ]
    }
   ],
   "source": [
    "\n",
    "\n",
    "for conta in [1]:\n",
    "    print('Mariana conta',conta)\n",
    "\n",
    "for conta in [2]:\n",
    "    print('Mariana conta',conta,'.É 1, é 2, é Ana viva a Mariana')\n",
    "\n",
    "for conta in [3]:\n",
    "    print('Mariana conta',conta)\n",
    "\n",
    "for conta in [4]:\n",
    "    print('Mariana conta',conta)\n",
    "\n",
    "for conta in [5]:\n",
    "    print('Mariana conta',conta)\n",
    "\n",
    "for conta in [6]:\n",
    "\n",
    "    print('Mariana conta',conta)\n",
    "\n",
    "for conta in [7]:\n",
    "    print('Mariana conta',conta)\n",
    "\n",
    "for conta in [8]:\n",
    "    print('Mariana conta',conta)\n",
    "\n",
    "for conta in [9]:\n",
    "    print('Mariana conta',conta)\n",
    "\n",
    "for conta in [10]:\n",
    "    print('Mariana conta',conta)\n",
    "\n",
    "print(\"\\n\")\n",
    "\n"
   ]
  },
  {
   "cell_type": "code",
   "execution_count": 19,
   "metadata": {},
   "outputs": [
    {
     "name": "stdout",
     "output_type": "stream",
     "text": [
      "Mariana conta 1, Marinan conta [1] \n",
      "Mariana conta 2, Marinan conta [1, 1] \n",
      "Mariana conta 3, Marinan conta [1, 1, 1] \n",
      "Mariana conta 4, Marinan conta [1, 1, 1, 1] \n",
      "Mariana conta 5, Marinan conta [1, 1, 1, 1, 1] \n",
      "Mariana conta 6, Marinan conta [1, 1, 1, 1, 1, 1] \n",
      "Mariana conta 7, Marinan conta [1, 1, 1, 1, 1, 1, 1] \n",
      "Mariana conta 8, Marinan conta [1, 1, 1, 1, 1, 1, 1, 1] \n",
      "Mariana conta 9, Marinan conta [1, 1, 1, 1, 1, 1, 1, 1, 1] \n",
      "Mariana conta 10, Marinan conta [1, 1, 1, 1, 1, 1, 1, 1, 1, 1] \n"
     ]
    }
   ],
   "source": [
    "contado = [] #lista\n",
    "\n",
    "for n in range(1,11):\n",
    "    contado += [1] #numero aqui dentro da lista. somar lista com lista\n",
    "    print(f'Mariana conta {n}, Marinan conta {contado} ') #f mostra a variável no print"
   ]
  },
  {
   "cell_type": "code",
   "execution_count": null,
   "metadata": {},
   "outputs": [],
   "source": [
    "#o padrão é a repetição da palavra 'incomodam' conforme o número aumenta. 2 elefantes incomodam muita gente, 3 elefantes incomodam incomodam incomodam muito mais\n",
    "\n",
    "\n"
   ]
  }
 ],
 "metadata": {
  "kernelspec": {
   "display_name": "Python 3",
   "language": "python",
   "name": "python3"
  },
  "language_info": {
   "codemirror_mode": {
    "name": "ipython",
    "version": 3
   },
   "file_extension": ".py",
   "mimetype": "text/x-python",
   "name": "python",
   "nbconvert_exporter": "python",
   "pygments_lexer": "ipython3",
   "version": "3.11.4"
  }
 },
 "nbformat": 4,
 "nbformat_minor": 2
}
