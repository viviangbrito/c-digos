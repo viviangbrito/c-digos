{
 "cells": [
  {
   "cell_type": "code",
   "execution_count": null,
   "metadata": {},
   "outputs": [],
   "source": [
    "dias = [3, 1, 10]\n"
   ]
  },
  {
   "cell_type": "code",
   "execution_count": null,
   "metadata": {},
   "outputs": [],
   "source": [
    "dias[0]"
   ]
  },
  {
   "cell_type": "code",
   "execution_count": null,
   "metadata": {},
   "outputs": [],
   "source": [
    "dias[1]"
   ]
  },
  {
   "cell_type": "code",
   "execution_count": null,
   "metadata": {},
   "outputs": [],
   "source": [
    "dias[2]"
   ]
  },
  {
   "cell_type": "code",
   "execution_count": null,
   "metadata": {},
   "outputs": [],
   "source": [
    "z = [3, 8, 9]\n"
   ]
  },
  {
   "cell_type": "code",
   "execution_count": null,
   "metadata": {},
   "outputs": [],
   "source": [
    "z[0]= 7"
   ]
  },
  {
   "cell_type": "code",
   "execution_count": 2,
   "metadata": {},
   "outputs": [],
   "source": [
    "V = [6, 7, 5, 8, 9]\n",
    "L = V\n",
    "print(V==L)\n",
    "V [0]= 5 # ou seja, o primeiro vai mudar de valor e vai passar a ser 5 ao invez de 6.\n",
    "print(V is L)\n",
    "V[0] = 100\n",
    "\n",
    "print(L)\n",
    "print(V)\n"
   ]
  },
  {
   "cell_type": "code",
   "execution_count": null,
   "metadata": {},
   "outputs": [],
   "source": [
    "a = [81, 82, 83] \n",
    "b = a [:]  #cria clone com fatia, clonando A. Pega todo o conteúdo de A.\n",
    "print( a==b) # COMPARANDO. ELE VAI BUSCAR O QUE TA DENTRO DOS DOIS.\n",
    "print(a is b) # A is/é B? Não.\n",
    "b[0] = 5 # \n",
    "print (a) #\n",
    "print (b) #"
   ]
  },
  {
   "cell_type": "code",
   "execution_count": null,
   "metadata": {},
   "outputs": [],
   "source": [
    "uma_lista = ['a','b', 'c', 'd','e', 'f']\n",
    "\n",
    "print(uma_lista[1:3])\n",
    "print(uma_lista[:4]) #não diz onde começa, começa do início. b, c e d\n",
    "print(uma_lista[3:]) # ele começa no índice 3, ele inclui o d e vai ate o fim ja que não tem marcação.\n",
    "print(uma_lista[:]) # aqui ele vai infinitamente de ambos os lados.\n",
    "\n"
   ]
  },
  {
   "cell_type": "code",
   "execution_count": null,
   "metadata": {},
   "outputs": [],
   "source": [
    "a = [1, 2, 3]\n",
    "b= a[:] #copiou\n",
    "b[0] = 5\n",
    "print(a[3]) #não é possível executar pois ele pede o terceiro, mas lá ele so tem 2 índices."
   ]
  },
  {
   "cell_type": "code",
   "execution_count": null,
   "metadata": {},
   "outputs": [],
   "source": [
    "minhaLista= [76, 92.3, \"oi\", True, 4, 76]\n",
    "\n",
    "#a\n",
    "minhaLista [6] + \"pitomba\"\n",
    "minhaLista [7] + 76\n",
    "\n",
    "#b\n",
    "minhaLista [3] = \"Cibele\"\n",
    "\n",
    "#c\n",
    "minhaLista [0] = 99\n",
    "\n",
    "#d\n",
    "minhaLista [] = \"oi\"\n",
    "\n",
    "#e\n",
    "minhaLista [3] = True\n",
    "\n"
   ]
  },
  {
   "cell_type": "code",
   "execution_count": null,
   "metadata": {},
   "outputs": [],
   "source": [
    "#TENTATIVA 2\n",
    "\n",
    "#a\n",
    "lista2 = [\"pitomba\", 76]\n",
    "novaLista= minhaLista + lista2\n",
    "\n",
    "#b\n",
    "minhaLista2= [76, 92.3, \"oi\",\"Cibele\", True, 4, 76]\n",
    "minhaLista2[3] = \"Cibele\"\n",
    "\n",
    "#c\n",
    "minhaLista [0:6] = 99\n",
    "\n",
    "#d\n",
    "minhaLista [:] = \"oi\" \n",
    "\n",
    "minhaLista= [76, 92.3, \"oi\", True, 4, 76]\n",
    "minhaLista [2] = \"oi\"\n",
    "#e\n",
    "minhaLista[0, 1, 2:4, 5] \n",
    "\n",
    "\n"
   ]
  },
  {
   "cell_type": "code",
   "execution_count": 44,
   "metadata": {},
   "outputs": [
    {
     "name": "stdout",
     "output_type": "stream",
     "text": [
      "[76, 92.3, 'oi', True, 4, 76, 'pitomba', 76]\n"
     ]
    }
   ],
   "source": [
    "#A\n",
    "minhaLista= [76, 92.3, \"oi\", True, 4, 76]\n",
    "lista2 = [\"pitomba\", 76]\n",
    "novaLista= minhaLista + lista2\n",
    "print (novaLista)"
   ]
  },
  {
   "cell_type": "code",
   "execution_count": 21,
   "metadata": {},
   "outputs": [
    {
     "name": "stdout",
     "output_type": "stream",
     "text": [
      "[76, 92.3, 'oi', True, 4, 76, 'pitomba', 76]\n"
     ]
    }
   ],
   "source": [
    "print(novaLista)"
   ]
  },
  {
   "cell_type": "code",
   "execution_count": 24,
   "metadata": {},
   "outputs": [],
   "source": [
    "#B\n",
    "lista3= [\"Cibele\"]"
   ]
  },
  {
   "cell_type": "code",
   "execution_count": 28,
   "metadata": {},
   "outputs": [
    {
     "name": "stdout",
     "output_type": "stream",
     "text": [
      "[76, 92.3, 'oi', 'Cibele', True, 4, 76, 'pitomba', 76]\n"
     ]
    }
   ],
   "source": [
    "listaFinal= novaLista[:3] + lista3 + novaLista[3:]\n",
    "print(listaFinal)"
   ]
  },
  {
   "cell_type": "code",
   "execution_count": 43,
   "metadata": {},
   "outputs": [
    {
     "name": "stdout",
     "output_type": "stream",
     "text": [
      "[99, 76, 92.3, 'oi', True, 4, 76]\n"
     ]
    }
   ],
   "source": [
    "#C\n",
    "minhaLista= [76, 92.3, \"oi\", True, 4, 76]\n",
    "listaNova= [99]\n",
    "listaC=  listaNova [0:] + minhaLista [:]\n",
    "print(listaC)"
   ]
  },
  {
   "cell_type": "code",
   "execution_count": 47,
   "metadata": {},
   "outputs": [
    {
     "name": "stdout",
     "output_type": "stream",
     "text": [
      "[99, 76, 92.3, 'oi', True, 4, 76]\n"
     ]
    }
   ],
   "source": [
    "#ou\n",
    "print([99] + minhaLista)"
   ]
  },
  {
   "cell_type": "code",
   "execution_count": 48,
   "metadata": {},
   "outputs": [
    {
     "data": {
      "text/plain": [
       "'oi'"
      ]
     },
     "execution_count": 48,
     "metadata": {},
     "output_type": "execute_result"
    }
   ],
   "source": [
    "#D\n",
    "minhaLista= [76, 92.3, \"oi\", True, 4, 76]\n",
    "minhaLista[2]\n"
   ]
  },
  {
   "cell_type": "code",
   "execution_count": 55,
   "metadata": {},
   "outputs": [
    {
     "name": "stdout",
     "output_type": "stream",
     "text": [
      "o índice é dois\n"
     ]
    }
   ],
   "source": [
    "#ou\n",
    "minhaLista= [76, 92.3, \"oi\", True, 4, 76]\n",
    "\n",
    "if minhaLista[0] == \"oi\":\n",
    "    print(\"o índice é zero\")\n",
    "elif minhaLista[1] == \"oi\":\n",
    "    print(\"o índice é um\")\n",
    "elif minhaLista[2] == \"oi\":\n",
    "    print(\"o índice é dois\")\n",
    "elif minhaLista[3] == \"oi\":\n",
    "    print(\"o índice é três\")\n",
    "elif minhaLista[4] == \"oi\":\n",
    "    print(\"o índice é quatro\")\n",
    "elif minhaLista[5] == \"oi\":\n",
    "    print(\"o índice é cinco\")"
   ]
  },
  {
   "cell_type": "code",
   "execution_count": 54,
   "metadata": {},
   "outputs": [
    {
     "data": {
      "text/plain": [
       "[76, 92.3, 'oi', 4, 76]"
      ]
     },
     "execution_count": 54,
     "metadata": {},
     "output_type": "execute_result"
    }
   ],
   "source": [
    "#E\n",
    "minhaLista[:3] + minhaLista[4:]"
   ]
  }
 ],
 "metadata": {
  "kernelspec": {
   "display_name": "Python 3",
   "language": "python",
   "name": "python3"
  },
  "language_info": {
   "codemirror_mode": {
    "name": "ipython",
    "version": 3
   },
   "file_extension": ".py",
   "mimetype": "text/x-python",
   "name": "python",
   "nbconvert_exporter": "python",
   "pygments_lexer": "ipython3",
   "version": "3.11.4"
  }
 },
 "nbformat": 4,
 "nbformat_minor": 2
}
