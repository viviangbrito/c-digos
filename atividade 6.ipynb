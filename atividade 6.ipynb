{
 "cells": [
  {
   "cell_type": "code",
   "execution_count": null,
   "metadata": {},
   "outputs": [],
   "source": [
    "#1)Num determinado Estado, para transferências de veículos, o DETRAN cobra uma taxa de 1% para carros fabricados antes de 1990 e uma taxa de 1.5% para os fabricados de 1990 em diante, a taxa está incidindo sobre o valor do carro. Faça uma algoritmo lê o ano e o preço do carro e a seguir calcula e imprime o imposto a ser pago."
   ]
  },
  {
   "cell_type": "code",
   "execution_count": 3,
   "metadata": {},
   "outputs": [
    {
     "name": "stdout",
     "output_type": "stream",
     "text": [
      "o valor é 30.0\n"
     ]
    }
   ],
   "source": [
    "\n",
    "TaxaPre= 00.1\n",
    "TaxaPos= 0.015\n",
    "preco= float (input(\"valor do carro\"))\n",
    "ano= int(input(\"ano do veículo\"))\n",
    "if (ano<1990):\n",
    "    valor = preco * TaxaPre\n",
    "else:\n",
    "    valor = preco * TaxaPos\n",
    "    print (\"o valor é\", valor)"
   ]
  },
  {
   "cell_type": "code",
   "execution_count": null,
   "metadata": {},
   "outputs": [],
   "source": [
    "#2"
   ]
  },
  {
   "cell_type": "code",
   "execution_count": 37,
   "metadata": {},
   "outputs": [
    {
     "name": "stdout",
     "output_type": "stream",
     "text": [
      "Seu novo salário é 3600.0\n"
     ]
    }
   ],
   "source": [
    "salario=float (input (\"Qual seu salario atual?\"))\n",
    "cargo= int (input(\"Qual o número do seu cargo?\"))\n",
    "novosalario= salario + ajuste\n",
    "\n",
    "if (cargo== 101):\n",
    "    ajuste = 10/100 * salario\n",
    "    print (\"    Seu novo salário é\", novosalario)\n",
    "elif (cargo== 102):\n",
    "    ajuste = 20/100 * salario\n",
    "    print(\"Seu novo salário é\", novosalario)\n",
    "elif (cargo==103):\n",
    "    ajuste = 30/100 * salario\n",
    "    print(\"Seu novo salário é\", novosalario)\n",
    "else:\n",
    "    ajuste = 40/100 * salario\n",
    "    print(\"Seu novo salário é\", novosalario)\n",
    "\n"
   ]
  }
 ],
 "metadata": {
  "kernelspec": {
   "display_name": "Python 3",
   "language": "python",
   "name": "python3"
  },
  "language_info": {
   "codemirror_mode": {
    "name": "ipython",
    "version": 3
   },
   "file_extension": ".py",
   "mimetype": "text/x-python",
   "name": "python",
   "nbconvert_exporter": "python",
   "pygments_lexer": "ipython3",
   "version": "3.11.4"
  }
 },
 "nbformat": 4,
 "nbformat_minor": 2
}
