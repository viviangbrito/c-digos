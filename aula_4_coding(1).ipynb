{
  "cells": [
    {
      "cell_type": "code",
      "execution_count": null,
      "metadata": {
        "id": "J1HMiAjZc2FJ",
        "outputId": "c3c4fecc-fa1c-4fdb-f322-9bef088bb9e7"
      },
      "outputs": [
        {
          "name": "stdout",
          "output_type": "stream",
          "text": [
            "Estamos no elemento 1\n",
            "Estamos no elemento 2\n",
            "Estamos no elemento 3\n",
            "Estamos no elemento 4\n",
            "Estamos no elemento 5\n",
            "Estamos no elemento 6\n"
          ]
        }
      ],
      "source": [
        "for elemento in [1, 2, 3, 4, 5, 6]:\n",
        "    print ('Estamos no elemento', elemento)"
      ]
    },
    {
      "cell_type": "code",
      "execution_count": null,
      "metadata": {
        "id": "TD6apO3ac2FU",
        "outputId": "aa73da92-991e-423f-87e1-815411cad78f"
      },
      "outputs": [
        {
          "name": "stdout",
          "output_type": "stream",
          "text": [
            "Estamos no elemento S\n",
            "Estamos no elemento T\n",
            "Estamos no elemento R\n",
            "Estamos no elemento I\n",
            "Estamos no elemento N\n",
            "Estamos no elemento G\n"
          ]
        }
      ],
      "source": [
        "for elemento in 'STRING':\n",
        "    print('Estamos no elemento', elemento)"
      ]
    },
    {
      "cell_type": "code",
      "execution_count": null,
      "metadata": {
        "id": "ffvr9n_Sc2FV",
        "outputId": "5558a639-668f-41d9-9107-c6be20c82f9e"
      },
      "outputs": [
        {
          "name": "stdout",
          "output_type": "stream",
          "text": [
            "Estamos no elemento 0\n",
            "Estamos no elemento 1\n",
            "Estamos no elemento 2\n",
            "Estamos no elemento 3\n",
            "Estamos no elemento 4\n",
            "Estamos no elemento 5\n"
          ]
        }
      ],
      "source": [
        "for elemento in range (len(\"STRING\")):\n",
        "    print('Estamos no elemento', elemento)"
      ]
    },
    {
      "cell_type": "code",
      "execution_count": null,
      "metadata": {
        "id": "7VuHWqHcc2FX",
        "outputId": "8304710c-c8bb-4235-9e5c-93aaa873fd02"
      },
      "outputs": [
        {
          "name": "stdout",
          "output_type": "stream",
          "text": [
            "Estamos no elemento 0\n",
            "Estamos no elemento 1\n",
            "Estamos no elemento 2\n",
            "Estamos no elemento 3\n",
            "Estamos no elemento 4\n",
            "Estamos no elemento 5\n",
            "Estamos no elemento 6\n"
          ]
        }
      ],
      "source": [
        "elemento = 0\n",
        "\n",
        "while elemento <= len([1, 2, 3, 4, 5, 6]):\n",
        "     print('Estamos no elemento', elemento)\n",
        "     elemento +=1 #evitar loop infinito. elemento ++ seria no java."
      ]
    },
    {
      "cell_type": "code",
      "execution_count": null,
      "metadata": {
        "id": "6_dwZcV3c2FY",
        "outputId": "dbdc8cd1-9c54-4f63-9a46-9e1486edd104"
      },
      "outputs": [
        {
          "name": "stdout",
          "output_type": "stream",
          "text": [
            "Estamos no elemento S\n",
            "Estamos no elemento T\n",
            "Estamos no elemento R\n",
            "Estamos no elemento I\n",
            "Estamos no elemento N\n",
            "Estamos no elemento G\n"
          ]
        }
      ],
      "source": [
        "s= 'STRING'\n",
        "indice = 0 #contador\n",
        "\n",
        "while indice in range (len(s)):\n",
        "    print('Estamos no elemento', s[indice])\n",
        "    indice +=1"
      ]
    },
    {
      "cell_type": "code",
      "execution_count": null,
      "metadata": {
        "id": "Batpo7S6c2FZ",
        "outputId": "f85bf256-a9cd-461c-be33-9be47945bd93"
      },
      "outputs": [
        {
          "name": "stdout",
          "output_type": "stream",
          "text": [
            "0 t\n",
            "1 r\n",
            "2 a\n",
            "3 n\n",
            "4 q\n",
            "5 u\n",
            "6 i\n",
            "7 l\n",
            "8 o\n"
          ]
        }
      ],
      "source": [
        "palavra= 'tranquilo'\n",
        "\n",
        "for indice, letra in enumerate(palavra):\n",
        "    print(indice, letra)\n"
      ]
    },
    {
      "cell_type": "code",
      "execution_count": null,
      "metadata": {
        "id": "CwEniVdRc2Fb",
        "outputId": "c2241636-473d-4cae-e3e8-ef6f08705cb5"
      },
      "outputs": [
        {
          "name": "stdout",
          "output_type": "stream",
          "text": [
            "Tipo: <class 'enumerate'>\n",
            "[(0, 'eat'), (1, 'sleep'), (2, 'repeat')]\n",
            "[(2, 'g'), (3, 'e'), (4, 'e'), (5, 'k')]\n"
          ]
        }
      ],
      "source": [
        "lista = ['eat', 'sleep', 'repeat']\n",
        "palavra= 'geek'\n",
        "\n",
        "objeto1= enumerate(lista)\n",
        "\n",
        "objeto2= enumerate(palavra)\n",
        "\n",
        "print('Tipo:', type(objeto1))\n",
        "print(list (enumerate(lista)))\n",
        "\n",
        "print(list(enumerate(palavra,2))) #a partir do número dois"
      ]
    },
    {
      "cell_type": "code",
      "execution_count": null,
      "metadata": {
        "id": "48lB3Bwkc2Fc",
        "outputId": "75f96065-bdcc-4118-d9b9-e5e51551171f"
      },
      "outputs": [
        {
          "name": "stdout",
          "output_type": "stream",
          "text": [
            "oi\n",
            "oi\n",
            "oi\n",
            "oi\n",
            "oi\n",
            "oi\n",
            "oi\n",
            "oi\n",
            "oi\n",
            "oi\n",
            "oi\n",
            "oi\n",
            "oi\n"
          ]
        }
      ],
      "source": [
        "s= 'viva o phyton' #o espaço conta como caractere tanto quanto uma letra\n",
        "for ch in s: # ch podereia ser qualquer coisa, é uma variável.É a forma que chamamos cada elemento de 's', um elemento.\n",
        "    print('oi')"
      ]
    },
    {
      "cell_type": "code",
      "execution_count": null,
      "metadata": {
        "id": "HZENZIhAc2Fd"
      },
      "outputs": [],
      "source": [
        "#1. Faça um programa que peça 10 números inteiros, calcule e mostre a quantidade de números pares e a quantidade de números ínpares."
      ]
    },
    {
      "cell_type": "code",
      "source": [
        "for x in range(1):\n",
        "    numero = int(input('Digite um número entre 1 e 10: '))\n",
        "\n",
        "impar = [1, 3, 5, 7, 9]\n",
        "par = [0, 2, 4, 6, 8]\n",
        "\n",
        "if numero >= 1 and numero <= 10:\n",
        "    if numero in impar:\n",
        "        print('Número ímpar.')\n",
        "    else:\n",
        "        print('Número par.')\n",
        "else:\n",
        "    print('Número fora do intervalo permitido.')\n"
      ],
      "metadata": {
        "colab": {
          "base_uri": "https://localhost:8080/"
        },
        "id": "5JL35Qcwc_zX",
        "outputId": "34cfdc97-7093-47cf-9ca6-a0caf3dacc4a"
      },
      "execution_count": 2,
      "outputs": [
        {
          "output_type": "stream",
          "name": "stdout",
          "text": [
            "Digite um número entre 1 e 10: 9\n",
            "Número ímpar.\n"
          ]
        }
      ]
    }
  ],
  "metadata": {
    "kernelspec": {
      "display_name": "Python 3",
      "language": "python",
      "name": "python3"
    },
    "language_info": {
      "codemirror_mode": {
        "name": "ipython",
        "version": 3
      },
      "file_extension": ".py",
      "mimetype": "text/x-python",
      "name": "python",
      "nbconvert_exporter": "python",
      "pygments_lexer": "ipython3",
      "version": "3.11.4"
    },
    "colab": {
      "provenance": []
    }
  },
  "nbformat": 4,
  "nbformat_minor": 0
}