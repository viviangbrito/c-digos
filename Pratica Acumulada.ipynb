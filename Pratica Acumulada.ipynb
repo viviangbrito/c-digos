{
 "cells": [
  {
   "cell_type": "code",
   "execution_count": 8,
   "metadata": {},
   "outputs": [
    {
     "name": "stdout",
     "output_type": "stream",
     "text": [
      "Essa letra é uma vogal.\n"
     ]
    }
   ],
   "source": [
    "#1\n",
    "\n",
    "for x in range(1):\n",
    "    letra = input('Digite uma letra.')\n",
    "\n",
    "vogais = 'A, E, I, O, U, a, e, i, o, u'\n",
    "\n",
    "if letra in vogais:\n",
    "    print('Essa letra é uma vogal.')\n",
    "else:\n",
    "    print('Essa letra é uma consoante.')\n"
   ]
  },
  {
   "cell_type": "code",
   "execution_count": 12,
   "metadata": {},
   "outputs": [
    {
     "name": "stdout",
     "output_type": "stream",
     "text": [
      "o valor  10.0 é o mais barato\n"
     ]
    }
   ],
   "source": [
    "#2\n",
    "\n",
    "numero1 = float (input(\"Digite o valor\"))\n",
    "numero2 = float (input(\"Digite o valor\"))\n",
    "numero3 = float (input(\"Digite o valor\"))\n",
    "\n",
    "\n",
    "if numero1 < numero2 and numero1 < numero3:\n",
    "    print(\"o valor \",numero1,\"é o mais barato\")\n",
    "\n",
    "elif (numero3 < numero2 and numero3 < numero1):\n",
    "    print (\"o valor \",numero2,\"é o mais barato\")\n",
    "\n",
    "else:\n",
    "    numero2 < numero3 and numero2 < numero1\n",
    "    print (\"o valor \",numero3,\"é o mais barato\")\n"
   ]
  },
  {
   "cell_type": "code",
   "execution_count": 9,
   "metadata": {},
   "outputs": [
    {
     "name": "stdout",
     "output_type": "stream",
     "text": [
      "A ordem decrescente é 90.0 40.0 20.0\n"
     ]
    }
   ],
   "source": [
    "#3\n",
    "\n",
    "numero1 = float(input(\"Digite o número 1\"))\n",
    "numero2 = float(input(\"Digite o número 2\"))\n",
    "numero3 = float(input(\"Digite o número 3\"))\n",
    "\n",
    "\n",
    "if numero1 >= numero2 >= numero3:\n",
    "    print(\"A ordem decrescente é\", numero1, numero2, numero3)\n",
    "elif numero1 >= numero3 >= numero2:\n",
    "    print(\"A ordem decrescente é\", numero1, numero3, numero2)\n",
    "elif numero2 >= numero1 >= numero3:\n",
    "    print(\"A ordem decrescente é\", numero2, numero1, numero3)\n",
    "elif numero2 >= numero3 >= numero1:\n",
    "    print(\"A ordem decrescente é\", numero2, numero3, numero1)\n",
    "elif numero3 >= numero1 >= numero2:\n",
    "    print(\"A ordem decrescente é\", numero3, numero1, numero2)\n",
    "else:\n",
    "    print(\"A ordem decrescente é\", numero3, numero2, numero1)\n",
    "\n"
   ]
  },
  {
   "cell_type": "code",
   "execution_count": 6,
   "metadata": {},
   "outputs": [
    {
     "name": "stdout",
     "output_type": "stream",
     "text": [
      "Boa tarde!\n"
     ]
    }
   ],
   "source": [
    "#4\n",
    "\n",
    "turno = input(\"Digite seu turno: matutino, vespertino ou noturno. \")\n",
    "\n",
    "if turno == \"Matutino\" or turno == \"matutino\":\n",
    "    print(\"Bom dia!\")\n",
    "elif turno == \"Vespertino\" or turno == \"vespertino\":\n",
    "    print(\"Boa tarde!\")\n",
    "elif turno == \"Noturno\" or turno == \"noturno\":\n",
    "    print(\"Boa noite!\")\n",
    "else:\n",
    "    print(\"Turno inválido!\")\n",
    "\n"
   ]
  },
  {
   "cell_type": "code",
   "execution_count": 4,
   "metadata": {},
   "outputs": [
    {
     "name": "stdout",
     "output_type": "stream",
     "text": [
      "O dia correspondente é Quinta\n"
     ]
    }
   ],
   "source": [
    "#5\n",
    "\n",
    "dia = int(input(\"Digite o número do dia da semana: \"))\n",
    "dianome = \"\"\n",
    "\n",
    "if dia == 1:\n",
    "    dianome = \"Domingo\"\n",
    "elif dia == 2:\n",
    "    dianome = \"Segunda\"\n",
    "elif dia == 3:\n",
    "    dianome = \"Terça\"\n",
    "elif dia == 4:\n",
    "    dianome = \"Quarta\"\n",
    "elif dia == 5:\n",
    "    dianome = \"Quinta\"\n",
    "elif dia == 6:\n",
    "    dianome = \"Sexta\"\n",
    "elif dia == 7:\n",
    "    dianome = \"Sábado\"\n",
    "else:\n",
    "    dianome = \"Dia inválido\"\n",
    "\n",
    "print(\"O dia correspondente é\", dianome)\n",
    "\n"
   ]
  },
  {
   "cell_type": "code",
   "execution_count": 43,
   "metadata": {},
   "outputs": [
    {
     "name": "stdout",
     "output_type": "stream",
     "text": [
      "aprovado. A\n"
     ]
    }
   ],
   "source": [
    "#5 (?)\n",
    "\n",
    "nota1 = float (input(\"Digite a nota 1\"))\n",
    "nota2 = float (input(\"Digite a nota 2\"))\n",
    "media= float ((nota1 + nota2)/2)\n",
    "\n",
    "\n",
    "if media >= 9:\n",
    "    conceito = \"A\"\n",
    "    print(\"aprovado.\", conceito)\n",
    "elif media >= 7.5:\n",
    "    conceito = \"B\"\n",
    "    print(\"aprovado.\", conceito)\n",
    "elif media >= 6:\n",
    "    conceito = \"C\"\n",
    "    print(\"aprovado.\", conceito)\n",
    "elif media >= 4:\n",
    "    conceito = \"D\"\n",
    "    print(\"reprovado.\", conceito)\n",
    "else:\n",
    "    conceito = \"E\"\n",
    "    print(\"reprovado.\", conceito)\n",
    "\n"
   ]
  },
  {
   "cell_type": "code",
   "execution_count": 2,
   "metadata": {},
   "outputs": [
    {
     "name": "stdout",
     "output_type": "stream",
     "text": [
      "Bissexto\n"
     ]
    }
   ],
   "source": [
    "#6\n",
    "\n",
    "def bissexto(ano):\n",
    "    if ano % 4 == 0 and (ano % 400 == 0 or ano % 100 != 0):\n",
    "        return True\n",
    "    else:\n",
    "        return False\n",
    "\n",
    "ano = int(input('Ano: '))\n",
    "if bissexto(ano):\n",
    "    print('Bissexto')\n",
    "else:\n",
    "    print('Não é bissexto')\n"
   ]
  },
  {
   "cell_type": "code",
   "execution_count": 11,
   "metadata": {},
   "outputs": [
    {
     "name": "stdout",
     "output_type": "stream",
     "text": [
      "O resultado da soma entre -100.0 e 90.0 é -10.0\n",
      "par\n",
      "negativo\n",
      "inteiro\n"
     ]
    }
   ],
   "source": [
    "#7\n",
    "\n",
    "numero1 = float(input(\"Digite o primeiro número\"))\n",
    "numero2 = float(input(\"Digite o segundo número\"))\n",
    "operacao = input(\"Digite a operação (soma, subtração, multiplicação, divisão,ou exponenciação): \")\n",
    "\n",
    "if operacao == \"soma\":\n",
    "    resultado = numero1 + numero2\n",
    "elif operacao == \"subtração\":\n",
    "    resultado = numero1 - numero2\n",
    "elif operacao == \"multiplicação\":\n",
    "    resultado = numero1 * numero2\n",
    "elif operacao == \"divisão\":\n",
    "    resultado = numero1 / numero2\n",
    "elif operacao == \"exponenciação\":\n",
    "    resultado = numero1 ** numero2\n",
    "else:\n",
    "    print(\"inválido!\")\n",
    "\n",
    "print(\"O resultado da\", operacao ,\"entre\" ,numero1, \"e\" ,numero2,\"é\", resultado)\n",
    "\n",
    "if resultado % 2 == 0:\n",
    "    print('par')\n",
    "else:\n",
    " print('ímpar')\n",
    "\n",
    "if resultado >0:\n",
    "    print('positivo')\n",
    "else:\n",
    " print ('negativo')\n",
    "\n",
    "if resultado == round(resultado): \n",
    "   print('inteiro') \n",
    "else:\n",
    "    print (\"decimal\")\n",
    "\n",
    "\n"
   ]
  },
  {
   "cell_type": "code",
   "execution_count": 14,
   "metadata": {},
   "outputs": [
    {
     "name": "stdout",
     "output_type": "stream",
     "text": [
      "Sua idade é: 23\n"
     ]
    }
   ],
   "source": [
    "#8\n",
    "\n",
    "while True:\n",
    "    idade = input(\"Qual sua idade? \")\n",
    "\n",
    "    if idade.isdigit() and 0 <= int(idade) <= 150:  # se n forem apenas dígitos\n",
    "        print(\"Sua idade é:\", idade)\n",
    "        break\n",
    "    else:\n",
    "        print(\"Digite um número inteiro válido para a idade entre 0 e 150\")\n",
    "\n"
   ]
  },
  {
   "cell_type": "code",
   "execution_count": 26,
   "metadata": {},
   "outputs": [
    {
     "name": "stdout",
     "output_type": "stream",
     "text": [
      "Soma dos números é 30.0\n",
      "Média dos números 6.0\n"
     ]
    }
   ],
   "source": [
    "#9\n",
    "\n",
    "soma = 0\n",
    "\n",
    "for contador in range(1, 6):\n",
    "    numero = float(input(\"Digite o \" + str(contador) + \"º número: \"))\n",
    "    soma += numero\n",
    "\n",
    "media = soma / 5  #somando 5 números\n",
    "\n",
    "print(\"Soma dos números é\", soma)\n",
    "print(\"Média dos números\", media)"
   ]
  },
  {
   "cell_type": "code",
   "execution_count": 18,
   "metadata": {},
   "outputs": [
    {
     "name": "stdout",
     "output_type": "stream",
     "text": [
      "Número não é primo\n"
     ]
    }
   ],
   "source": [
    "#10\n",
    "\n",
    "numero = int(input(\"Digite um número inteiro: \"))\n",
    "\n",
    "if numero > 1:\n",
    "    divisor = 2\n",
    "    while divisor <= numero / 2:\n",
    "        if numero % divisor == 0:\n",
    "            print(\"Número não é primo\")\n",
    "            break\n",
    "        divisor += 1\n",
    "    else:\n",
    "        print(\"Número é primo\")\n",
    "else:\n",
    "    print(\"Número não é primo\")\n",
    "\n"
   ]
  },
  {
   "cell_type": "code",
   "execution_count": 20,
   "metadata": {},
   "outputs": [
    {
     "name": "stdout",
     "output_type": "stream",
     "text": [
      "Menor temperatura: 13.0\n",
      "Maior temperatura: 32.0\n",
      "Média das temperaturas: 23.0\n"
     ]
    }
   ],
   "source": [
    "#11\n",
    "\n",
    "\n",
    "numero1 = float(input(\"Digite a temperatura 1: \"))\n",
    "numero2 = float(input(\"Digite a temperatura 2: \"))\n",
    "numero3 = float(input(\"Digite a temperatura 3: \"))\n",
    "numero4 = float(input(\"Digite a temperatura 4: \"))\n",
    "numero5 = float(input(\"Digite a temperatura 5: \"))\n",
    "\n",
    "mediaTemperaturas = (numero1 + numero2 + numero3 + numero4 + numero5) / 5\n",
    "\n",
    "menorTemperatura = min(numero1, numero2, numero3, numero4, numero5)\n",
    "print(\"Menor temperatura:\", menorTemperatura)\n",
    "\n",
    "maiorTemperatura = max(numero1, numero2, numero3, numero4, numero5)\n",
    "print(\"Maior temperatura:\", maiorTemperatura)\n",
    "\n",
    "media = mediaTemperaturas\n",
    "print(\"Média das temperaturas:\", mediaTemperaturas)\n",
    "\n"
   ]
  },
  {
   "cell_type": "code",
   "execution_count": 25,
   "metadata": {},
   "outputs": [
    {
     "name": "stdout",
     "output_type": "stream",
     "text": [
      "Saldo médio do cliente é de 500.0\n",
      "Valor do crédito é de 150.0\n"
     ]
    }
   ],
   "source": [
    "#12\n",
    "\n",
    "saldomedio = float(input(\"Saldo médio do cliente: \"))\n",
    "\n",
    "if saldomedio <= 200:\n",
    "    percentual = 0\n",
    "elif saldomedio <= 400:\n",
    "    percentual = 0.2\n",
    "elif saldomedio <= 600:\n",
    "    percentual = 0.3\n",
    "else:\n",
    "    percentual = 0.4\n",
    "\n",
    "credito = saldomedio * percentual\n",
    "\n",
    "print(\"Saldo médio do cliente é de\",saldomedio)\n",
    "print(\"Valor do crédito é de\",credito)\n"
   ]
  },
  {
   "cell_type": "code",
   "execution_count": 24,
   "metadata": {},
   "outputs": [
    {
     "name": "stdout",
     "output_type": "stream",
     "text": [
      "Olá, Vivian ! Você poderá se aposentar em 2066\n"
     ]
    }
   ],
   "source": [
    "\n",
    "#13\n",
    "nome = input(\"Digite seu nome\")\n",
    "idade = int(input(\"Digite sua idade\"))\n",
    "\n",
    "\n",
    "anoatual = 2024\n",
    "idadeAposentadoria = 65\n",
    "anoAposentadoria = anoatual + (idadeAposentadoria - idade)\n",
    "\n",
    "\n",
    "print(\"Olá,\",nome,\"!\",\"Você poderá se aposentar em\", anoAposentadoria)\n"
   ]
  },
  {
   "cell_type": "code",
   "execution_count": 16,
   "metadata": {},
   "outputs": [
    {
     "name": "stdout",
     "output_type": "stream",
     "text": [
      "O salário bruto é de 55380.0\n",
      "O desconto do Imposto de Renda é de 15229.5\n",
      "O desconto do Sindicato é de 1661.4\n",
      "O depósito do FGTS é de 6091.8\n",
      "O salário Líquido é de 38489.1\n"
     ]
    }
   ],
   "source": [
    "#14\n",
    "\n",
    "\n",
    "valorHora = float(input(\"Digite o valor da sua hora de trabalho: \"))\n",
    "horasTrabalhadas = float(input(\"Digite a quantidade de horas trabalhadas no mês: \"))\n",
    "\n",
    "salarioBruto = valorHora * horasTrabalhadas\n",
    "\n",
    "# Imposto de Renda\n",
    "if salarioBruto <= 2112.00:\n",
    "    descontoIR = 0\n",
    "elif salarioBruto <= 2826.65:\n",
    "    descontoIR = salarioBruto * 0.075\n",
    "elif salarioBruto <= 3751.05:\n",
    "    descontoIR = salarioBruto * 0.15\n",
    "elif salarioBruto <= 4664.68:\n",
    "    descontoIR = salarioBruto * 0.225\n",
    "else:\n",
    "    descontoIR = salarioBruto * 0.275\n",
    "\n",
    "\n",
    "descontoSindicato = salarioBruto * 0.03\n",
    "\n",
    "# Depósito do FGTS \n",
    "fgts = salarioBruto * 0.11\n",
    "\n",
    "salarioLiquido = salarioBruto - descontoIR - descontoSindicato\n",
    "\n",
    "# O round serve aqui pra arredondar os números pois estavam esquisitos. *\n",
    "salarioBruto = round(salarioBruto, 2) \n",
    "descontoIR = round(descontoIR, 2)\n",
    "descontoSindicato = round(descontoSindicato, 2)\n",
    "fgts = round(fgts, 2)\n",
    "salarioLiquido = round(salarioLiquido, 2)\n",
    "\n",
    "\n",
    "print(\"O salário bruto é de\", salarioBruto)\n",
    "print(\"O desconto do Imposto de Renda é de\", descontoIR)\n",
    "print(\"O desconto do Sindicato é de\", descontoSindicato)\n",
    "print(\"O depósito do FGTS é de\", fgts)\n",
    "print(\"O salário Líquido é de\", salarioLiquido)\n",
    "\n",
    "# * código original\n",
    "#valorHora = float(input(\"Digite o valor da sua hora de trabalho\"))\n",
    "#horasTrabalhadas = float(input(\"Digite a quantidade de horas trabalhadas no mês\"))\n",
    "\n",
    "#salarioBruto = valorHora * horasTrabalhadas\n",
    "\n",
    "# Imposto de Renda\n",
    "#if salarioBruto <= 2112.00:\n",
    "#    descontoIR = 0\n",
    "#elif salarioBruto <= 2826.65:\n",
    "#    descontoIR = salarioBruto * 0.075\n",
    "#elif salarioBruto <= 3751.05:\n",
    "#    descontoIR = salarioBruto * 0.15\n",
    "#elif salarioBruto <= 4664.68:\n",
    "#    descontoIR = salarioBruto * 0.225\n",
    "#else:\n",
    "#    descontoIR = salarioBruto * 0.275\n",
    "\n",
    "\n",
    "#descontoSindicato = salarioBruto * 0.03\n",
    "\n",
    "# Depósito do FGTS \n",
    "#fgts = salarioBruto * 0.11\n",
    "\n",
    "\n",
    "#salarioLiquido = salarioBruto - descontoIR - descontoSindicato\n",
    "\n",
    "#print(\"O salário bruto é de\", salarioBruto)\n",
    "#print(\"O desconto do Imposto de Renda é de\", descontoIR)\n",
    "#print(\"O desconto do Sindicato é de\", descontoSindicato)\n",
    "#print(\"O depósito do FGTS é de\", fgts)\n",
    "#print(\"O salário Líquido é de\", salarioLiquido) \n"
   ]
  }
 ],
 "metadata": {
  "kernelspec": {
   "display_name": "Python 3",
   "language": "python",
   "name": "python3"
  },
  "language_info": {
   "codemirror_mode": {
    "name": "ipython",
    "version": 3
   },
   "file_extension": ".py",
   "mimetype": "text/x-python",
   "name": "python",
   "nbconvert_exporter": "python",
   "pygments_lexer": "ipython3",
   "version": "3.11.4"
  }
 },
 "nbformat": 4,
 "nbformat_minor": 2
}
