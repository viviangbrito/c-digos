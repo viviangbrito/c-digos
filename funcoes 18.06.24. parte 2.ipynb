{
 "cells": [
  {
   "cell_type": "code",
   "execution_count": 1,
   "metadata": {},
   "outputs": [],
   "source": [
    "def funcaoLeitura():\n",
    "    for num in [1,2,3,4,5 ]: #num é cada um dos elementos\n",
    "        print(\"Número\", num) #toda vez que chamar essa função, ela vai trazer toda a função"
   ]
  },
  {
   "cell_type": "code",
   "execution_count": 4,
   "metadata": {},
   "outputs": [],
   "source": [
    "def funcaoLeitura():\n",
    "    for num in range(5): #in é do for apenas\n",
    "     print(\"Número\", num)"
   ]
  },
  {
   "cell_type": "code",
   "execution_count": 15,
   "metadata": {},
   "outputs": [
    {
     "name": "stdout",
     "output_type": "stream",
     "text": [
      "Número 0\n",
      "Número 1\n",
      "Número 2\n",
      "Número 3\n",
      "Número 4\n"
     ]
    }
   ],
   "source": [
    "funcaoLeitura() #aqui ela so executa, sem precisar se algo específico"
   ]
  },
  {
   "cell_type": "code",
   "execution_count": 21,
   "metadata": {},
   "outputs": [],
   "source": [
    "#função com parâmetros (n1, n2) para somar com dois números. Quando for usar vasi ter que passar por eses parâmetros\n",
    "def addNum (n1,n2):\n",
    "    print(\"O primeiro número é:\", n1)\n",
    "    print(\"O segundo número é:\", n2)\n",
    "    print(\"A soma é:\", n1+n2)"
   ]
  },
  {
   "cell_type": "code",
   "execution_count": 17,
   "metadata": {},
   "outputs": [
    {
     "ename": "TypeError",
     "evalue": "addNum() missing 2 required positional arguments: 'n1' and 'n2'",
     "output_type": "error",
     "traceback": [
      "\u001b[1;31m---------------------------------------------------------------------------\u001b[0m",
      "\u001b[1;31mTypeError\u001b[0m                                 Traceback (most recent call last)",
      "Cell \u001b[1;32mIn[17], line 1\u001b[0m\n\u001b[1;32m----> 1\u001b[0m \u001b[43maddNum\u001b[49m\u001b[43m(\u001b[49m\u001b[43m)\u001b[49m\n",
      "\u001b[1;31mTypeError\u001b[0m: addNum() missing 2 required positional arguments: 'n1' and 'n2'"
     ]
    }
   ],
   "source": [
    "addNum()"
   ]
  },
  {
   "cell_type": "code",
   "execution_count": 22,
   "metadata": {},
   "outputs": [
    {
     "name": "stdout",
     "output_type": "stream",
     "text": [
      "O primeiro número é: 4\n",
      "O segundo número é: 3\n",
      "A soma é: 7\n"
     ]
    }
   ],
   "source": [
    "addNum(4,3)"
   ]
  },
  {
   "cell_type": "code",
   "execution_count": 23,
   "metadata": {},
   "outputs": [
    {
     "name": "stdout",
     "output_type": "stream",
     "text": [
      "O primeiro número é: 2\n",
      "O segundo número é: 6\n",
      "A soma é: 8\n"
     ]
    }
   ],
   "source": [
    "addNum(2,6)"
   ]
  },
  {
   "cell_type": "code",
   "execution_count": 30,
   "metadata": {},
   "outputs": [
    {
     "name": "stdout",
     "output_type": "stream",
     "text": [
      "Variável da função Multiplica: 20\n",
      "10\n"
     ]
    }
   ],
   "source": [
    "varGlobal = 10 #essa é uma variável global, ela vem antes da função. Ela existe fora da função\n",
    "def multiplicacao(num1,num2):\n",
    "    varLocal = num1 * num2 #essa é a variável local (só acontece e existe dentro daquela função). Memso com nomes iguais, elas pode coexistir, já que são variáveis diferentes (uma independente e outra dentro da função)\n",
    "    print('Variável da função Multiplica:', varLocal)\n",
    "    #print(varLocal) # se colar ela na \"parede\", ela sai da função\n",
    "\n",
    "# global é fora da função, e a local só existe dentro da função\n",
    "multiplicacao(5,4)\n",
    "print(varGlobal) # mesmo nome de variável, mas ela é diferente. Quando cria-se uma variável ela so faz parte DESSA função"
   ]
  },
  {
   "cell_type": "code",
   "execution_count": 26,
   "metadata": {},
   "outputs": [],
   "source": [
    "# tem que colocar a qauntidade de parâmetros original (um, dois, três, etc)\n"
   ]
  },
  {
   "cell_type": "code",
   "execution_count": 32,
   "metadata": {},
   "outputs": [
    {
     "name": "stdout",
     "output_type": "stream",
     "text": [
      "Parâmetro 0 Luca\n",
      "Parâmetro 1 Pipa\n",
      "Parâmetro 2 Adamastor\n"
     ]
    }
   ],
   "source": [
    "#Quando não sabemos a quantidade de parâmetros basta\n",
    "def variosParametros(*parametros): #o asterisco significa tudo, todos os parametros\n",
    "    for n, item in enumerate(parametros):\n",
    "        print(\"Parâmetro\", n, item)\n",
    "    return #toda função usa, pra ela executar, trazer (mostrar) o que mandamos fazer\n",
    "variosParametros('Luca', 'Pipa', 'Adamastor')"
   ]
  },
  {
   "cell_type": "code",
   "execution_count": 34,
   "metadata": {},
   "outputs": [
    {
     "name": "stdout",
     "output_type": "stream",
     "text": [
      "Parâmetro 0 Luca\n",
      "Parâmetro 1 Pipa\n",
      "Parâmetro 2 Adamastor\n",
      "Parâmetro 3 Maria\n"
     ]
    }
   ],
   "source": [
    "variosParametros('Luca', 'Pipa', 'Adamastor', 'Maria')"
   ]
  },
  {
   "cell_type": "code",
   "execution_count": 35,
   "metadata": {},
   "outputs": [],
   "source": [
    "def soma(n1,n2): #aqui temos dois parâmetros\n",
    "    return n1+n2\n",
    "\n",
    "def subtracao(n1, n2):\n",
    "    return n1-n2\n",
    "\n",
    "def multiplicacao(n1, n2):\n",
    "    return n1*n2\n",
    "\n",
    "def divisao(n1, n2):\n",
    "    return n1/n2\n"
   ]
  },
  {
   "cell_type": "code",
   "execution_count": 43,
   "metadata": {},
   "outputs": [
    {
     "name": "stdout",
     "output_type": "stream",
     "text": [
      " +-------------------+\n",
      " | MENU DE OPERAÇÕES |\n",
      " |   1 - somar       |\n",
      " |   2 - subtrair    |\n",
      " |   3 - multiplicar |\n",
      " |   4 - dividir     |\n",
      " |   0 - sair        |\n",
      " +-------------------+\n",
      "Número inválido, selecione outra operação de acordo com os número exibidos na tabela.\n"
     ]
    }
   ],
   "source": [
    "def soma(n1,n2): #aqui temos dois parâmetros\n",
    "    return n1+n2\n",
    "\n",
    "def subtracao(n1, n2):\n",
    "    return n1-n2\n",
    "\n",
    "def multiplicacao(n1, n2):\n",
    "    return n1*n2\n",
    "\n",
    "def divisao(n1, n2):\n",
    "    return n1/n2\n",
    "\n",
    "\n",
    "while True:\n",
    "    print(' +-------------------+')\n",
    "    print(' | MENU DE OPERAÇÕES |')\n",
    "    print(' |   1 - somar       |')\n",
    "    print(' |   2 - subtrair    |')\n",
    "    print(' |   3 - multiplicar |')\n",
    "    print(' |   4 - dividir     |')\n",
    "    print(' |   0 - sair        |')\n",
    "    print(' +-------------------+')\n",
    "\n",
    "    operacao = int(input()) #input vazio poius ele já vê todas as inforções na tela e ele só precisa digitar\n",
    "    if operacao == 0:\n",
    "     break #(fechar programa) se ele digitar zero, ele encerra o código. esse if encerra aqui, o outro é independente\n",
    "\n",
    "    n1= int(input(\"Primeiro número:\"))\n",
    "    n2= int(input(\"Segundo número:\"))\n",
    "    if operacao == 1:\n",
    "       print('O resultado da soma é:', soma(n1, n2))\n",
    "    elif operacao == 2:\n",
    "        print('O resultado da subtração é:', subtracao(n1, n2))\n",
    "    elif operacao== 3:\n",
    "       print('O resultado da multiplicação é:', multiplicacao(n1, n2))\n",
    "    elif operacao == 4: \n",
    "        print('O resultado da divisão é:', divisao(n1, n2))\n",
    "    elif operacao == 0:\n",
    "        print('Sair')\n",
    "\n",
    "    else:\n",
    "       print('Número inválido, selecione outra operação de acordo com os número exibidos na tabela.')\n",
    "    break\n",
    "\n"
   ]
  },
  {
   "cell_type": "code",
   "execution_count": 2,
   "metadata": {},
   "outputs": [
    {
     "name": "stdout",
     "output_type": "stream",
     "text": [
      " +-------------------+\n",
      " | MENU DE OPERAÇÕES |\n",
      " |   1 - somar       |\n",
      " |   2 - subtrair    |\n",
      " |   3 - multiplicar |\n",
      " |   4 - dividir     |\n",
      " |   5 - exponenciar |\n",
      " |   6 - radiciar    |\n",
      " |   0 - sair        |\n",
      " +-------------------+\n",
      "O resultado da exponenciação é: 16\n"
     ]
    }
   ],
   "source": [
    "# acrescentar mais operações e entregar a atividade\n",
    "def soma(n1, n2): \n",
    "    return n1 + n2\n",
    "\n",
    "def subtracao(n1, n2):\n",
    "    return n1 - n2\n",
    "\n",
    "def multiplicacao(n1, n2):\n",
    "    return n1 * n2\n",
    "\n",
    "def divisao(n1, n2):\n",
    "    return n1 / n2\n",
    "\n",
    "def exponenciacao(n1, n2):\n",
    "    return n1 ** n2\n",
    "\n",
    "def radiciacao(n1, n2):\n",
    "    return n1 ** (1 / n2)\n",
    "\n",
    "while True:\n",
    "    print(' +-------------------+')\n",
    "    print(' | MENU DE OPERAÇÕES |')\n",
    "    print(' |   1 - somar       |')\n",
    "    print(' |   2 - subtrair    |')\n",
    "    print(' |   3 - multiplicar |')\n",
    "    print(' |   4 - dividir     |')\n",
    "    print(' |   5 - exponenciar |')\n",
    "    print(' |   6 - radiciar    |')\n",
    "    print(' |   0 - sair        |')\n",
    "    print(' +-------------------+')\n",
    "\n",
    "    operacao = int(input()) \n",
    "    if operacao == 0:\n",
    "        break\n",
    "\n",
    "    n1 = int(input(\"Primeiro número:\"))\n",
    "    n2 = int(input(\"Segundo número:\"))\n",
    "    if operacao == 1:\n",
    "        print('O resultado da soma é:', soma(n1, n2))\n",
    "    elif operacao == 2:\n",
    "        print('O resultado da subtração é:', subtracao(n1, n2))\n",
    "    elif operacao == 3:\n",
    "        print('O resultado da multiplicação é:', multiplicacao(n1, n2))\n",
    "    elif operacao == 4: \n",
    "        print('O resultado da divisão é:', divisao(n1, n2))\n",
    "    elif operacao == 5:\n",
    "        print('O resultado da exponenciação é:', exponenciacao(n1, n2))\n",
    "    elif operacao == 6:\n",
    "        print('O resultado da radiciação é:', radiciacao(n1, n2))\n",
    "    else:\n",
    "        print('Número inválido, selecione outra operação de acordo com os números exibidos na tabela.')\n",
    "    break\n",
    "\n"
   ]
  }
 ],
 "metadata": {
  "kernelspec": {
   "display_name": "Python 3",
   "language": "python",
   "name": "python3"
  },
  "language_info": {
   "codemirror_mode": {
    "name": "ipython",
    "version": 3
   },
   "file_extension": ".py",
   "mimetype": "text/x-python",
   "name": "python",
   "nbconvert_exporter": "python",
   "pygments_lexer": "ipython3",
   "version": "3.11.9"
  }
 },
 "nbformat": 4,
 "nbformat_minor": 2
}
